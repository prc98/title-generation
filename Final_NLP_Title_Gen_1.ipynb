{
  "nbformat": 4,
  "nbformat_minor": 0,
  "metadata": {
    "colab": {
      "name": "Final_NLP_Title_Gen_1.ipynb",
      "provenance": [],
      "toc_visible": true,
      "mount_file_id": "1s48w2SgeDJlwCyJMBT_N9gLV_I9uYdyC",
      "authorship_tag": "ABX9TyMhKB1gaRYN2hperO/2IdIu",
      "include_colab_link": true
    },
    "kernelspec": {
      "name": "python3",
      "display_name": "Python 3"
    },
    "language_info": {
      "name": "python"
    }
  },
  "cells": [
    {
      "cell_type": "markdown",
      "metadata": {
        "id": "view-in-github",
        "colab_type": "text"
      },
      "source": [
        "<a href=\"https://colab.research.google.com/github/prc98/title-generation/blob/main/Final_NLP_Title_Gen_1.ipynb\" target=\"_parent\"><img src=\"https://colab.research.google.com/assets/colab-badge.svg\" alt=\"Open In Colab\"/></a>"
      ]
    },
    {
      "cell_type": "markdown",
      "metadata": {
        "id": "durNoTw4996W"
      },
      "source": [
        "# Summary extraction"
      ]
    },
    {
      "cell_type": "code",
      "metadata": {
        "colab": {
          "base_uri": "https://localhost:8080/"
        },
        "id": "frV_5zpXtrh5",
        "outputId": "c0e3e215-d229-4ea0-a7c8-c7c4d5d6518f"
      },
      "source": [
        "from google.colab import drive\n",
        "drive.mount('/content/drive')"
      ],
      "execution_count": 2,
      "outputs": [
        {
          "output_type": "stream",
          "text": [
            "Drive already mounted at /content/drive; to attempt to forcibly remount, call drive.mount(\"/content/drive\", force_remount=True).\n"
          ],
          "name": "stdout"
        }
      ]
    },
    {
      "cell_type": "code",
      "metadata": {
        "id": "Y67-hIg_vv6q",
        "colab": {
          "base_uri": "https://localhost:8080/"
        },
        "outputId": "f2192914-0894-4a4f-e5f9-4b8ce0d3a5ef"
      },
      "source": [
        "!pip install sumy\n"
      ],
      "execution_count": 3,
      "outputs": [
        {
          "output_type": "stream",
          "text": [
            "Collecting sumy\n",
            "\u001b[?25l  Downloading https://files.pythonhosted.org/packages/61/20/8abf92617ec80a2ebaec8dc1646a790fc9656a4a4377ddb9f0cc90bc9326/sumy-0.8.1-py2.py3-none-any.whl (83kB)\n",
            "\r\u001b[K     |████                            | 10kB 13.1MB/s eta 0:00:01\r\u001b[K     |███████▉                        | 20kB 18.2MB/s eta 0:00:01\r\u001b[K     |███████████▊                    | 30kB 21.8MB/s eta 0:00:01\r\u001b[K     |███████████████▋                | 40kB 22.5MB/s eta 0:00:01\r\u001b[K     |███████████████████▌            | 51kB 20.7MB/s eta 0:00:01\r\u001b[K     |███████████████████████▍        | 61kB 17.7MB/s eta 0:00:01\r\u001b[K     |███████████████████████████▍    | 71kB 18.3MB/s eta 0:00:01\r\u001b[K     |███████████████████████████████▎| 81kB 16.5MB/s eta 0:00:01\r\u001b[K     |████████████████████████████████| 92kB 6.7MB/s \n",
            "\u001b[?25hCollecting breadability>=0.1.20\n",
            "  Downloading https://files.pythonhosted.org/packages/ad/2d/bb6c9b381e6b6a432aa2ffa8f4afdb2204f1ff97cfcc0766a5b7683fec43/breadability-0.1.20.tar.gz\n",
            "Collecting pycountry>=18.2.23\n",
            "\u001b[?25l  Downloading https://files.pythonhosted.org/packages/76/73/6f1a412f14f68c273feea29a6ea9b9f1e268177d32e0e69ad6790d306312/pycountry-20.7.3.tar.gz (10.1MB)\n",
            "\u001b[K     |████████████████████████████████| 10.1MB 23.4MB/s \n",
            "\u001b[?25hRequirement already satisfied: requests>=2.7.0 in /usr/local/lib/python3.7/dist-packages (from sumy) (2.23.0)\n",
            "Requirement already satisfied: nltk>=3.0.2 in /usr/local/lib/python3.7/dist-packages (from sumy) (3.2.5)\n",
            "Requirement already satisfied: docopt<0.7,>=0.6.1 in /usr/local/lib/python3.7/dist-packages (from sumy) (0.6.2)\n",
            "Requirement already satisfied: chardet in /usr/local/lib/python3.7/dist-packages (from breadability>=0.1.20->sumy) (3.0.4)\n",
            "Requirement already satisfied: lxml>=2.0 in /usr/local/lib/python3.7/dist-packages (from breadability>=0.1.20->sumy) (4.2.6)\n",
            "Requirement already satisfied: urllib3!=1.25.0,!=1.25.1,<1.26,>=1.21.1 in /usr/local/lib/python3.7/dist-packages (from requests>=2.7.0->sumy) (1.24.3)\n",
            "Requirement already satisfied: idna<3,>=2.5 in /usr/local/lib/python3.7/dist-packages (from requests>=2.7.0->sumy) (2.10)\n",
            "Requirement already satisfied: certifi>=2017.4.17 in /usr/local/lib/python3.7/dist-packages (from requests>=2.7.0->sumy) (2020.12.5)\n",
            "Requirement already satisfied: six in /usr/local/lib/python3.7/dist-packages (from nltk>=3.0.2->sumy) (1.15.0)\n",
            "Building wheels for collected packages: breadability, pycountry\n",
            "  Building wheel for breadability (setup.py) ... \u001b[?25l\u001b[?25hdone\n",
            "  Created wheel for breadability: filename=breadability-0.1.20-py2.py3-none-any.whl size=21680 sha256=c82cadac8e5318cf41b68e623c14b6063299cd7fc9254f03ec2745fd6ebf5e25\n",
            "  Stored in directory: /root/.cache/pip/wheels/5a/4d/a1/510b12c5e65e0b2b3ce539b2af66da0fc57571e528924f4a52\n",
            "  Building wheel for pycountry (setup.py) ... \u001b[?25l\u001b[?25hdone\n",
            "  Created wheel for pycountry: filename=pycountry-20.7.3-py2.py3-none-any.whl size=10746863 sha256=f5ed64435885c9dc243c312a99ff9905a7a4fb50196bc7acf2aedf34c6638718\n",
            "  Stored in directory: /root/.cache/pip/wheels/33/4e/a6/be297e6b83567e537bed9df4a93f8590ec01c1acfbcd405348\n",
            "Successfully built breadability pycountry\n",
            "Installing collected packages: breadability, pycountry, sumy\n",
            "Successfully installed breadability-0.1.20 pycountry-20.7.3 sumy-0.8.1\n"
          ],
          "name": "stdout"
        }
      ]
    },
    {
      "cell_type": "code",
      "metadata": {
        "colab": {
          "base_uri": "https://localhost:8080/"
        },
        "id": "Es4WeDUuC4JK",
        "outputId": "4cdcea7b-034c-410f-cd2c-d8b10dd6c6bf"
      },
      "source": [
        "import nltk\n",
        "nltk.download('punkt')"
      ],
      "execution_count": 4,
      "outputs": [
        {
          "output_type": "stream",
          "text": [
            "[nltk_data] Downloading package punkt to /root/nltk_data...\n",
            "[nltk_data]   Unzipping tokenizers/punkt.zip.\n"
          ],
          "name": "stdout"
        },
        {
          "output_type": "execute_result",
          "data": {
            "text/plain": [
              "True"
            ]
          },
          "metadata": {
            "tags": []
          },
          "execution_count": 4
        }
      ]
    },
    {
      "cell_type": "markdown",
      "metadata": {
        "id": "kgcWk730M9Pd"
      },
      "source": [
        "#Declaring Summary methods"
      ]
    },
    {
      "cell_type": "code",
      "metadata": {
        "id": "10g2VecKzB1f"
      },
      "source": [
        "import sumy\n",
        "from sumy.parsers.plaintext import PlaintextParser\n",
        "from sumy.nlp.tokenizers import Tokenizer\n",
        "import pandas as pd\n",
        "from sumy.nlp.stemmers import Stemmer"
      ],
      "execution_count": 5,
      "outputs": []
    },
    {
      "cell_type": "code",
      "metadata": {
        "id": "UauaUXsKAvfJ"
      },
      "source": [
        "from sumy.summarizers.lex_rank import LexRankSummarizer\n",
        "def LexRank(parser):\n",
        "  summarizer = LexRankSummarizer()\n",
        "  summary = summarizer(parser.document, 2)\n",
        "  return summary\n"
      ],
      "execution_count": 31,
      "outputs": []
    },
    {
      "cell_type": "code",
      "metadata": {
        "id": "jLwF28HUNS9U"
      },
      "source": [
        "from sumy.summarizers.lsa import LsaSummarizer\n",
        "def LsaSum(parser):\n",
        "  summarizer = LsaSummarizer()\n",
        "  summary = summarizer(parser.document, 2)\n",
        "  return summary"
      ],
      "execution_count": 32,
      "outputs": []
    },
    {
      "cell_type": "code",
      "metadata": {
        "id": "YVLOTvmdNiyN"
      },
      "source": [
        "from sumy.summarizers.luhn import LuhnSummarizer\n",
        "def LuhnSum(parser):\n",
        "  summarizer = LuhnSummarizer()\n",
        "  summary = summarizer(parser.document, 2)\n",
        "  return summary"
      ],
      "execution_count": 33,
      "outputs": []
    },
    {
      "cell_type": "code",
      "metadata": {
        "id": "wjsTvtABN3DU"
      },
      "source": [
        "from sumy.summarizers.text_rank import TextRankSummarizer\n",
        "def TextRank(parser):\n",
        "  summarizer = TextRankSummarizer()\n",
        "  summary = summarizer(parser.document, 2)\n",
        "  return summary"
      ],
      "execution_count": 34,
      "outputs": []
    },
    {
      "cell_type": "code",
      "metadata": {
        "id": "EBPkQXMIQcX1"
      },
      "source": [
        "from sumy.summarizers.sum_basic import SumBasicSummarizer\n",
        "def SumBasic(parser):\n",
        "  summarizer = SumBasicSummarizer()\n",
        "  summary = summarizer(parser.document, 2)\n",
        "  return summary"
      ],
      "execution_count": 35,
      "outputs": []
    },
    {
      "cell_type": "code",
      "metadata": {
        "id": "TrYcvNyeRM90"
      },
      "source": [
        "from sumy.summarizers.kl import KLSummarizer\n",
        "def KlSum(parser):\n",
        "  summarizer = KLSummarizer()\n",
        "  summarizer.bonus_words = parser.significant_words\n",
        "  summary = summarizer(parser.document, 2)\n",
        "  return summary"
      ],
      "execution_count": 36,
      "outputs": []
    },
    {
      "cell_type": "code",
      "metadata": {
        "id": "a2ay64Z7R_J8"
      },
      "source": [
        "from sumy.summarizers.edmundson import EdmundsonSummarizer\n",
        "from sumy.utils import get_stop_words\n",
        "def EdSum(parser):\n",
        "  \n",
        "  summarizer = EdmundsonSummarizer()\n",
        "  summarizer.bonus_words = parser.significant_words\n",
        "  summarizer.stigma_words = parser.stigma_words\n",
        "  summarizer.null_words = get_stop_words(\"english\")\n",
        "  summary = summarizer(parser.document, 2)\n",
        "  return summary"
      ],
      "execution_count": 37,
      "outputs": []
    },
    {
      "cell_type": "markdown",
      "metadata": {
        "id": "ijDBOfYfMv7e"
      },
      "source": [
        "#Checking"
      ]
    },
    {
      "cell_type": "code",
      "metadata": {
        "id": "nn-adMB4CK4S"
      },
      "source": [
        "demo =\"A  summary  encoder  is  used  to  encode  eachsummary to a summary representation. Afterwards, a controllayer  is  added  on  the  top  of  summary  representations,  tomerge these summaries to the representation of the importantinformation  of  the  whole  document,  which  is  further  pro-vided to a decoder to generate the headline accordingly.  Weintroduce  a  hierarchical  attention  strategy.   Summary-levelattention is introduced as the control function to distinguishthe contribution of different summaries.  The word-level at-tention is similar to the effective attention mechanism used insentence summarization models, which enables the decoderto align to important original words during the generation.\""
      ],
      "execution_count": 7,
      "outputs": []
    },
    {
      "cell_type": "code",
      "metadata": {
        "colab": {
          "base_uri": "https://localhost:8080/",
          "height": 122
        },
        "id": "ewmImX5XCg_P",
        "outputId": "48d5f77a-4921-4683-89ca-b9bea9365b51"
      },
      "source": [
        "demo"
      ],
      "execution_count": 8,
      "outputs": [
        {
          "output_type": "execute_result",
          "data": {
            "application/vnd.google.colaboratory.intrinsic+json": {
              "type": "string"
            },
            "text/plain": [
              "'A  summary  encoder  is  used  to  encode  eachsummary to a summary representation. Afterwards, a controllayer  is  added  on  the  top  of  summary  representations,  tomerge these summaries to the representation of the importantinformation  of  the  whole  document,  which  is  further  pro-vided to a decoder to generate the headline accordingly.  Weintroduce  a  hierarchical  attention  strategy.   Summary-levelattention is introduced as the control function to distinguishthe contribution of different summaries.  The word-level at-tention is similar to the effective attention mechanism used insentence summarization models, which enables the decoderto align to important original words during the generation.'"
            ]
          },
          "metadata": {
            "tags": []
          },
          "execution_count": 8
        }
      ]
    },
    {
      "cell_type": "code",
      "metadata": {
        "id": "vIoZvFCLCje-"
      },
      "source": [
        "parser = PlaintextParser.from_string(demo,Tokenizer(\"english\"))\n",
        "sum = SumBasic(parser)"
      ],
      "execution_count": 28,
      "outputs": []
    },
    {
      "cell_type": "code",
      "metadata": {
        "id": "DxiGjRPyEVYi"
      },
      "source": [
        "st1 = ''.join([str(sen) for sen in sum])"
      ],
      "execution_count": 29,
      "outputs": []
    },
    {
      "cell_type": "code",
      "metadata": {
        "colab": {
          "base_uri": "https://localhost:8080/",
          "height": 70
        },
        "id": "rk1ztrvAE6pl",
        "outputId": "0f3d2a42-c8a7-4d1b-ada1-dfab0ab3bd66"
      },
      "source": [
        "st1"
      ],
      "execution_count": 30,
      "outputs": [
        {
          "output_type": "execute_result",
          "data": {
            "application/vnd.google.colaboratory.intrinsic+json": {
              "type": "string"
            },
            "text/plain": [
              "'Afterwards, a controllayer  is  added  on  the  top  of  summary  representations,  tomerge these summaries to the representation of the importantinformation  of  the  whole  document,  which  is  further  pro-vided to a decoder to generate the headline accordingly.Weintroduce  a  hierarchical  attention  strategy.'"
            ]
          },
          "metadata": {
            "tags": []
          },
          "execution_count": 30
        }
      ]
    },
    {
      "cell_type": "markdown",
      "metadata": {
        "id": "4nWSYGxuMzsx"
      },
      "source": [
        "#Appending summaries in the dataframe"
      ]
    },
    {
      "cell_type": "code",
      "metadata": {
        "id": "o4pO_xNCGbmW"
      },
      "source": [
        "df = pd.read_csv('/content/drive/MyDrive/data_id.csv')"
      ],
      "execution_count": 39,
      "outputs": []
    },
    {
      "cell_type": "code",
      "metadata": {
        "colab": {
          "base_uri": "https://localhost:8080/",
          "height": 206
        },
        "id": "dOHxSboAH6zZ",
        "outputId": "91c5b8af-fb09-41c9-ee24-db3d0c7a3eb2"
      },
      "source": [
        "df.head()"
      ],
      "execution_count": 40,
      "outputs": [
        {
          "output_type": "execute_result",
          "data": {
            "text/html": [
              "<div>\n",
              "<style scoped>\n",
              "    .dataframe tbody tr th:only-of-type {\n",
              "        vertical-align: middle;\n",
              "    }\n",
              "\n",
              "    .dataframe tbody tr th {\n",
              "        vertical-align: top;\n",
              "    }\n",
              "\n",
              "    .dataframe thead th {\n",
              "        text-align: right;\n",
              "    }\n",
              "</style>\n",
              "<table border=\"1\" class=\"dataframe\">\n",
              "  <thead>\n",
              "    <tr style=\"text-align: right;\">\n",
              "      <th></th>\n",
              "      <th>Id</th>\n",
              "      <th>Abstract</th>\n",
              "      <th>Title</th>\n",
              "    </tr>\n",
              "  </thead>\n",
              "  <tbody>\n",
              "    <tr>\n",
              "      <th>0</th>\n",
              "      <td>0</td>\n",
              "      <td>We propose an architecture for VQA which utili...</td>\n",
              "      <td>Dual Recurrent Attention Units for Visual Ques...</td>\n",
              "    </tr>\n",
              "    <tr>\n",
              "      <th>1</th>\n",
              "      <td>1</td>\n",
              "      <td>Recent approaches based on artificial neural n...</td>\n",
              "      <td>Sequential Short-Text Classification with Recu...</td>\n",
              "    </tr>\n",
              "    <tr>\n",
              "      <th>2</th>\n",
              "      <td>2</td>\n",
              "      <td>We introduce the multiresolution recurrent neu...</td>\n",
              "      <td>Multiresolution Recurrent Neural Networks: An ...</td>\n",
              "    </tr>\n",
              "    <tr>\n",
              "      <th>3</th>\n",
              "      <td>3</td>\n",
              "      <td>Multi-task learning is motivated by the observ...</td>\n",
              "      <td>Learning what to share between loosely related...</td>\n",
              "    </tr>\n",
              "    <tr>\n",
              "      <th>4</th>\n",
              "      <td>4</td>\n",
              "      <td>We present MILABOT: a deep reinforcement learn...</td>\n",
              "      <td>A Deep Reinforcement Learning Chatbot</td>\n",
              "    </tr>\n",
              "  </tbody>\n",
              "</table>\n",
              "</div>"
            ],
            "text/plain": [
              "   Id  ...                                              Title\n",
              "0   0  ...  Dual Recurrent Attention Units for Visual Ques...\n",
              "1   1  ...  Sequential Short-Text Classification with Recu...\n",
              "2   2  ...  Multiresolution Recurrent Neural Networks: An ...\n",
              "3   3  ...  Learning what to share between loosely related...\n",
              "4   4  ...              A Deep Reinforcement Learning Chatbot\n",
              "\n",
              "[5 rows x 3 columns]"
            ]
          },
          "metadata": {
            "tags": []
          },
          "execution_count": 40
        }
      ]
    },
    {
      "cell_type": "markdown",
      "metadata": {
        "id": "Cnvuq3KIN9a1"
      },
      "source": [
        "## Adding LexRank summariser as sum1 in the dataframe"
      ]
    },
    {
      "cell_type": "code",
      "metadata": {
        "colab": {
          "base_uri": "https://localhost:8080/"
        },
        "id": "xEv_DIapH9eK",
        "outputId": "7bc05431-faed-43a2-a3e1-e6db1e1b7f73"
      },
      "source": [
        "col = df['Abstract']\n",
        "df['sum1']= \"\"\n",
        "for i,abs in enumerate(col):\n",
        "  parser = PlaintextParser.from_string(abs,Tokenizer(\"english\"))\n",
        "  sum = LexRank(parser)\n",
        "  sum = ''.join([str(sen) for sen in sum])\n",
        "  df['sum1'][i]=sum"
      ],
      "execution_count": 41,
      "outputs": [
        {
          "output_type": "stream",
          "text": [
            "/usr/local/lib/python3.7/dist-packages/ipykernel_launcher.py:7: SettingWithCopyWarning: \n",
            "A value is trying to be set on a copy of a slice from a DataFrame\n",
            "\n",
            "See the caveats in the documentation: https://pandas.pydata.org/pandas-docs/stable/user_guide/indexing.html#returning-a-view-versus-a-copy\n",
            "  import sys\n"
          ],
          "name": "stderr"
        }
      ]
    },
    {
      "cell_type": "code",
      "metadata": {
        "colab": {
          "base_uri": "https://localhost:8080/",
          "height": 598
        },
        "id": "XDFoLcv5LaU2",
        "outputId": "7d5357f5-b418-4f30-81da-4d5a94ec07e7"
      },
      "source": [
        "df"
      ],
      "execution_count": 42,
      "outputs": [
        {
          "output_type": "execute_result",
          "data": {
            "text/html": [
              "<div>\n",
              "<style scoped>\n",
              "    .dataframe tbody tr th:only-of-type {\n",
              "        vertical-align: middle;\n",
              "    }\n",
              "\n",
              "    .dataframe tbody tr th {\n",
              "        vertical-align: top;\n",
              "    }\n",
              "\n",
              "    .dataframe thead th {\n",
              "        text-align: right;\n",
              "    }\n",
              "</style>\n",
              "<table border=\"1\" class=\"dataframe\">\n",
              "  <thead>\n",
              "    <tr style=\"text-align: right;\">\n",
              "      <th></th>\n",
              "      <th>Id</th>\n",
              "      <th>Abstract</th>\n",
              "      <th>Title</th>\n",
              "      <th>sum1</th>\n",
              "    </tr>\n",
              "  </thead>\n",
              "  <tbody>\n",
              "    <tr>\n",
              "      <th>0</th>\n",
              "      <td>0</td>\n",
              "      <td>We propose an architecture for VQA which utili...</td>\n",
              "      <td>Dual Recurrent Attention Units for Visual Ques...</td>\n",
              "      <td>We propose an architecture for VQA which utili...</td>\n",
              "    </tr>\n",
              "    <tr>\n",
              "      <th>1</th>\n",
              "      <td>1</td>\n",
              "      <td>Recent approaches based on artificial neural n...</td>\n",
              "      <td>Sequential Short-Text Classification with Recu...</td>\n",
              "      <td>Recent approaches based on artificial neural n...</td>\n",
              "    </tr>\n",
              "    <tr>\n",
              "      <th>2</th>\n",
              "      <td>2</td>\n",
              "      <td>We introduce the multiresolution recurrent neu...</td>\n",
              "      <td>Multiresolution Recurrent Neural Networks: An ...</td>\n",
              "      <td>We introduce the multiresolution recurrent neu...</td>\n",
              "    </tr>\n",
              "    <tr>\n",
              "      <th>3</th>\n",
              "      <td>3</td>\n",
              "      <td>Multi-task learning is motivated by the observ...</td>\n",
              "      <td>Learning what to share between loosely related...</td>\n",
              "      <td>Multi-task learning is motivated by the observ...</td>\n",
              "    </tr>\n",
              "    <tr>\n",
              "      <th>4</th>\n",
              "      <td>4</td>\n",
              "      <td>We present MILABOT: a deep reinforcement learn...</td>\n",
              "      <td>A Deep Reinforcement Learning Chatbot</td>\n",
              "      <td>We present MILABOT: a deep reinforcement learn...</td>\n",
              "    </tr>\n",
              "    <tr>\n",
              "      <th>...</th>\n",
              "      <td>...</td>\n",
              "      <td>...</td>\n",
              "      <td>...</td>\n",
              "      <td>...</td>\n",
              "    </tr>\n",
              "    <tr>\n",
              "      <th>40995</th>\n",
              "      <td>40995</td>\n",
              "      <td>We study the complexity of learning and approx...</td>\n",
              "      <td>Nearly Tight Bounds on $\\ell_1$ Approximation ...</td>\n",
              "      <td>Previous techniques considered stronger $\\ell_...</td>\n",
              "    </tr>\n",
              "    <tr>\n",
              "      <th>40996</th>\n",
              "      <td>40996</td>\n",
              "      <td>We consider the problem of multiple users targ...</td>\n",
              "      <td>Concurrent bandits and cognitive radio networks</td>\n",
              "      <td>Even the number of users may be unknown and ca...</td>\n",
              "    </tr>\n",
              "    <tr>\n",
              "      <th>40997</th>\n",
              "      <td>40997</td>\n",
              "      <td>In this paper, we compare and analyze clusteri...</td>\n",
              "      <td>A Comparison of Clustering and Missing Data Me...</td>\n",
              "      <td>In this paper, we compare and analyze clusteri...</td>\n",
              "    </tr>\n",
              "    <tr>\n",
              "      <th>40998</th>\n",
              "      <td>40998</td>\n",
              "      <td>Cylindrical algebraic decomposition(CAD) is a ...</td>\n",
              "      <td>Applying machine learning to the problem of ch...</td>\n",
              "      <td>Cylindrical algebraic decomposition(CAD) is a ...</td>\n",
              "    </tr>\n",
              "    <tr>\n",
              "      <th>40999</th>\n",
              "      <td>40999</td>\n",
              "      <td>Several speaker identification systems are giv...</td>\n",
              "      <td>A Multi Level Data Fusion Approach for Speaker...</td>\n",
              "      <td>Several speaker identification systems are giv...</td>\n",
              "    </tr>\n",
              "  </tbody>\n",
              "</table>\n",
              "<p>41000 rows × 4 columns</p>\n",
              "</div>"
            ],
            "text/plain": [
              "          Id  ...                                               sum1\n",
              "0          0  ...  We propose an architecture for VQA which utili...\n",
              "1          1  ...  Recent approaches based on artificial neural n...\n",
              "2          2  ...  We introduce the multiresolution recurrent neu...\n",
              "3          3  ...  Multi-task learning is motivated by the observ...\n",
              "4          4  ...  We present MILABOT: a deep reinforcement learn...\n",
              "...      ...  ...                                                ...\n",
              "40995  40995  ...  Previous techniques considered stronger $\\ell_...\n",
              "40996  40996  ...  Even the number of users may be unknown and ca...\n",
              "40997  40997  ...  In this paper, we compare and analyze clusteri...\n",
              "40998  40998  ...  Cylindrical algebraic decomposition(CAD) is a ...\n",
              "40999  40999  ...  Several speaker identification systems are giv...\n",
              "\n",
              "[41000 rows x 4 columns]"
            ]
          },
          "metadata": {
            "tags": []
          },
          "execution_count": 42
        }
      ]
    },
    {
      "cell_type": "markdown",
      "metadata": {
        "id": "oQSje9BCQ7EM"
      },
      "source": [
        "## Adding LSA as sum2"
      ]
    },
    {
      "cell_type": "code",
      "metadata": {
        "colab": {
          "base_uri": "https://localhost:8080/"
        },
        "id": "y8L1QlsLUyhF",
        "outputId": "52c6863f-516e-4e93-c6bf-3859b46c630f"
      },
      "source": [
        "col = df['Abstract']\n",
        "df['sum2']= \"\"\n",
        "for i,abs in enumerate(col):\n",
        "  parser = PlaintextParser.from_string(abs,Tokenizer(\"english\"))\n",
        "  sum = LsaSum(parser)\n",
        "  sum = ''.join([str(sen) for sen in sum])\n",
        "  df['sum2'][i]=sum"
      ],
      "execution_count": 43,
      "outputs": [
        {
          "output_type": "stream",
          "text": [
            "/usr/local/lib/python3.7/dist-packages/ipykernel_launcher.py:7: SettingWithCopyWarning: \n",
            "A value is trying to be set on a copy of a slice from a DataFrame\n",
            "\n",
            "See the caveats in the documentation: https://pandas.pydata.org/pandas-docs/stable/user_guide/indexing.html#returning-a-view-versus-a-copy\n",
            "  import sys\n"
          ],
          "name": "stderr"
        }
      ]
    },
    {
      "cell_type": "code",
      "metadata": {
        "colab": {
          "base_uri": "https://localhost:8080/",
          "height": 615
        },
        "id": "4vSZJUvgU4Fc",
        "outputId": "e067fb4c-fd16-420d-9900-1e9580b8b404"
      },
      "source": [
        "df"
      ],
      "execution_count": 44,
      "outputs": [
        {
          "output_type": "execute_result",
          "data": {
            "text/html": [
              "<div>\n",
              "<style scoped>\n",
              "    .dataframe tbody tr th:only-of-type {\n",
              "        vertical-align: middle;\n",
              "    }\n",
              "\n",
              "    .dataframe tbody tr th {\n",
              "        vertical-align: top;\n",
              "    }\n",
              "\n",
              "    .dataframe thead th {\n",
              "        text-align: right;\n",
              "    }\n",
              "</style>\n",
              "<table border=\"1\" class=\"dataframe\">\n",
              "  <thead>\n",
              "    <tr style=\"text-align: right;\">\n",
              "      <th></th>\n",
              "      <th>Id</th>\n",
              "      <th>Abstract</th>\n",
              "      <th>Title</th>\n",
              "      <th>sum1</th>\n",
              "      <th>sum2</th>\n",
              "    </tr>\n",
              "  </thead>\n",
              "  <tbody>\n",
              "    <tr>\n",
              "      <th>0</th>\n",
              "      <td>0</td>\n",
              "      <td>We propose an architecture for VQA which utili...</td>\n",
              "      <td>Dual Recurrent Attention Units for Visual Ques...</td>\n",
              "      <td>We propose an architecture for VQA which utili...</td>\n",
              "      <td>We propose an architecture for VQA which utili...</td>\n",
              "    </tr>\n",
              "    <tr>\n",
              "      <th>1</th>\n",
              "      <td>1</td>\n",
              "      <td>Recent approaches based on artificial neural n...</td>\n",
              "      <td>Sequential Short-Text Classification with Recu...</td>\n",
              "      <td>Recent approaches based on artificial neural n...</td>\n",
              "      <td>Recent approaches based on artificial neural n...</td>\n",
              "    </tr>\n",
              "    <tr>\n",
              "      <th>2</th>\n",
              "      <td>2</td>\n",
              "      <td>We introduce the multiresolution recurrent neu...</td>\n",
              "      <td>Multiresolution Recurrent Neural Networks: An ...</td>\n",
              "      <td>We introduce the multiresolution recurrent neu...</td>\n",
              "      <td>We introduce the multiresolution recurrent neu...</td>\n",
              "    </tr>\n",
              "    <tr>\n",
              "      <th>3</th>\n",
              "      <td>3</td>\n",
              "      <td>Multi-task learning is motivated by the observ...</td>\n",
              "      <td>Learning what to share between loosely related...</td>\n",
              "      <td>Multi-task learning is motivated by the observ...</td>\n",
              "      <td>Multi-task learning is motivated by the observ...</td>\n",
              "    </tr>\n",
              "    <tr>\n",
              "      <th>4</th>\n",
              "      <td>4</td>\n",
              "      <td>We present MILABOT: a deep reinforcement learn...</td>\n",
              "      <td>A Deep Reinforcement Learning Chatbot</td>\n",
              "      <td>We present MILABOT: a deep reinforcement learn...</td>\n",
              "      <td>MILABOT is capable of conversing with humans o...</td>\n",
              "    </tr>\n",
              "    <tr>\n",
              "      <th>...</th>\n",
              "      <td>...</td>\n",
              "      <td>...</td>\n",
              "      <td>...</td>\n",
              "      <td>...</td>\n",
              "      <td>...</td>\n",
              "    </tr>\n",
              "    <tr>\n",
              "      <th>40995</th>\n",
              "      <td>40995</td>\n",
              "      <td>We study the complexity of learning and approx...</td>\n",
              "      <td>Nearly Tight Bounds on $\\ell_1$ Approximation ...</td>\n",
              "      <td>Previous techniques considered stronger $\\ell_...</td>\n",
              "      <td>We show that both the degree and junta-size ar...</td>\n",
              "    </tr>\n",
              "    <tr>\n",
              "      <th>40996</th>\n",
              "      <td>40996</td>\n",
              "      <td>We consider the problem of multiple users targ...</td>\n",
              "      <td>Concurrent bandits and cognitive radio networks</td>\n",
              "      <td>Even the number of users may be unknown and ca...</td>\n",
              "      <td>The motivation for this problem comes from cog...</td>\n",
              "    </tr>\n",
              "    <tr>\n",
              "      <th>40997</th>\n",
              "      <td>40997</td>\n",
              "      <td>In this paper, we compare and analyze clusteri...</td>\n",
              "      <td>A Comparison of Clustering and Missing Data Me...</td>\n",
              "      <td>In this paper, we compare and analyze clusteri...</td>\n",
              "      <td>In particular, we propose and analyze the use ...</td>\n",
              "    </tr>\n",
              "    <tr>\n",
              "      <th>40998</th>\n",
              "      <td>40998</td>\n",
              "      <td>Cylindrical algebraic decomposition(CAD) is a ...</td>\n",
              "      <td>Applying machine learning to the problem of ch...</td>\n",
              "      <td>Cylindrical algebraic decomposition(CAD) is a ...</td>\n",
              "      <td>Machine learning is the process of fitting a c...</td>\n",
              "    </tr>\n",
              "    <tr>\n",
              "      <th>40999</th>\n",
              "      <td>40999</td>\n",
              "      <td>Several speaker identification systems are giv...</td>\n",
              "      <td>A Multi Level Data Fusion Approach for Speaker...</td>\n",
              "      <td>Several speaker identification systems are giv...</td>\n",
              "      <td>To deal with this problem, we investigate the ...</td>\n",
              "    </tr>\n",
              "  </tbody>\n",
              "</table>\n",
              "<p>41000 rows × 5 columns</p>\n",
              "</div>"
            ],
            "text/plain": [
              "          Id  ...                                               sum2\n",
              "0          0  ...  We propose an architecture for VQA which utili...\n",
              "1          1  ...  Recent approaches based on artificial neural n...\n",
              "2          2  ...  We introduce the multiresolution recurrent neu...\n",
              "3          3  ...  Multi-task learning is motivated by the observ...\n",
              "4          4  ...  MILABOT is capable of conversing with humans o...\n",
              "...      ...  ...                                                ...\n",
              "40995  40995  ...  We show that both the degree and junta-size ar...\n",
              "40996  40996  ...  The motivation for this problem comes from cog...\n",
              "40997  40997  ...  In particular, we propose and analyze the use ...\n",
              "40998  40998  ...  Machine learning is the process of fitting a c...\n",
              "40999  40999  ...  To deal with this problem, we investigate the ...\n",
              "\n",
              "[41000 rows x 5 columns]"
            ]
          },
          "metadata": {
            "tags": []
          },
          "execution_count": 44
        }
      ]
    },
    {
      "cell_type": "markdown",
      "metadata": {
        "id": "1a6-umvYU4s3"
      },
      "source": [
        "## Adding LuhnSummarizer as sum3"
      ]
    },
    {
      "cell_type": "code",
      "metadata": {
        "colab": {
          "base_uri": "https://localhost:8080/"
        },
        "id": "yrEqXB01Qwng",
        "outputId": "98f97f27-3d1b-47ce-c570-9e816b171d24"
      },
      "source": [
        "col = df['Abstract']\n",
        "df['sum3']= \"\"\n",
        "for i,abs in enumerate(col):\n",
        "  parser = PlaintextParser.from_string(abs,Tokenizer(\"english\"))\n",
        "  sum = LuhnSum(parser)\n",
        "  sum = ''.join([str(sen) for sen in sum])\n",
        "  df['sum3'][i]=sum"
      ],
      "execution_count": 45,
      "outputs": [
        {
          "output_type": "stream",
          "text": [
            "/usr/local/lib/python3.7/dist-packages/ipykernel_launcher.py:7: SettingWithCopyWarning: \n",
            "A value is trying to be set on a copy of a slice from a DataFrame\n",
            "\n",
            "See the caveats in the documentation: https://pandas.pydata.org/pandas-docs/stable/user_guide/indexing.html#returning-a-view-versus-a-copy\n",
            "  import sys\n"
          ],
          "name": "stderr"
        }
      ]
    },
    {
      "cell_type": "code",
      "metadata": {
        "colab": {
          "base_uri": "https://localhost:8080/",
          "height": 789
        },
        "id": "5vCHwIMwUNd2",
        "outputId": "6ca0f435-1db8-4429-a8dc-24f99b81e55b"
      },
      "source": [
        "df"
      ],
      "execution_count": 46,
      "outputs": [
        {
          "output_type": "execute_result",
          "data": {
            "text/html": [
              "<div>\n",
              "<style scoped>\n",
              "    .dataframe tbody tr th:only-of-type {\n",
              "        vertical-align: middle;\n",
              "    }\n",
              "\n",
              "    .dataframe tbody tr th {\n",
              "        vertical-align: top;\n",
              "    }\n",
              "\n",
              "    .dataframe thead th {\n",
              "        text-align: right;\n",
              "    }\n",
              "</style>\n",
              "<table border=\"1\" class=\"dataframe\">\n",
              "  <thead>\n",
              "    <tr style=\"text-align: right;\">\n",
              "      <th></th>\n",
              "      <th>Id</th>\n",
              "      <th>Abstract</th>\n",
              "      <th>Title</th>\n",
              "      <th>sum1</th>\n",
              "      <th>sum2</th>\n",
              "      <th>sum3</th>\n",
              "    </tr>\n",
              "  </thead>\n",
              "  <tbody>\n",
              "    <tr>\n",
              "      <th>0</th>\n",
              "      <td>0</td>\n",
              "      <td>We propose an architecture for VQA which utili...</td>\n",
              "      <td>Dual Recurrent Attention Units for Visual Ques...</td>\n",
              "      <td>We propose an architecture for VQA which utili...</td>\n",
              "      <td>We propose an architecture for VQA which utili...</td>\n",
              "      <td>The memory characteristic of the proposed recu...</td>\n",
              "    </tr>\n",
              "    <tr>\n",
              "      <th>1</th>\n",
              "      <td>1</td>\n",
              "      <td>Recent approaches based on artificial neural n...</td>\n",
              "      <td>Sequential Short-Text Classification with Recu...</td>\n",
              "      <td>Recent approaches based on artificial neural n...</td>\n",
              "      <td>Recent approaches based on artificial neural n...</td>\n",
              "      <td>However, many short texts occur in sequences (...</td>\n",
              "    </tr>\n",
              "    <tr>\n",
              "      <th>2</th>\n",
              "      <td>2</td>\n",
              "      <td>We introduce the multiresolution recurrent neu...</td>\n",
              "      <td>Multiresolution Recurrent Neural Networks: An ...</td>\n",
              "      <td>We introduce the multiresolution recurrent neu...</td>\n",
              "      <td>We introduce the multiresolution recurrent neu...</td>\n",
              "      <td>We introduce the multiresolution recurrent neu...</td>\n",
              "    </tr>\n",
              "    <tr>\n",
              "      <th>3</th>\n",
              "      <td>3</td>\n",
              "      <td>Multi-task learning is motivated by the observ...</td>\n",
              "      <td>Learning what to share between loosely related...</td>\n",
              "      <td>Multi-task learning is motivated by the observ...</td>\n",
              "      <td>Multi-task learning is motivated by the observ...</td>\n",
              "      <td>To overcome this, we introduce Sluice Networks...</td>\n",
              "    </tr>\n",
              "    <tr>\n",
              "      <th>4</th>\n",
              "      <td>4</td>\n",
              "      <td>We present MILABOT: a deep reinforcement learn...</td>\n",
              "      <td>A Deep Reinforcement Learning Chatbot</td>\n",
              "      <td>We present MILABOT: a deep reinforcement learn...</td>\n",
              "      <td>MILABOT is capable of conversing with humans o...</td>\n",
              "      <td>The system consists of an ensemble of natural ...</td>\n",
              "    </tr>\n",
              "    <tr>\n",
              "      <th>...</th>\n",
              "      <td>...</td>\n",
              "      <td>...</td>\n",
              "      <td>...</td>\n",
              "      <td>...</td>\n",
              "      <td>...</td>\n",
              "      <td>...</td>\n",
              "    </tr>\n",
              "    <tr>\n",
              "      <th>40995</th>\n",
              "      <td>40995</td>\n",
              "      <td>We study the complexity of learning and approx...</td>\n",
              "      <td>Nearly Tight Bounds on $\\ell_1$ Approximation ...</td>\n",
              "      <td>Previous techniques considered stronger $\\ell_...</td>\n",
              "      <td>We show that both the degree and junta-size ar...</td>\n",
              "      <td>We study the complexity of learning and approx...</td>\n",
              "    </tr>\n",
              "    <tr>\n",
              "      <th>40996</th>\n",
              "      <td>40996</td>\n",
              "      <td>We consider the problem of multiple users targ...</td>\n",
              "      <td>Concurrent bandits and cognitive radio networks</td>\n",
              "      <td>Even the number of users may be unknown and ca...</td>\n",
              "      <td>The motivation for this problem comes from cog...</td>\n",
              "      <td>We consider the problem of multiple users targ...</td>\n",
              "    </tr>\n",
              "    <tr>\n",
              "      <th>40997</th>\n",
              "      <td>40997</td>\n",
              "      <td>In this paper, we compare and analyze clusteri...</td>\n",
              "      <td>A Comparison of Clustering and Missing Data Me...</td>\n",
              "      <td>In this paper, we compare and analyze clusteri...</td>\n",
              "      <td>In particular, we propose and analyze the use ...</td>\n",
              "      <td>In particular, we propose and analyze the use ...</td>\n",
              "    </tr>\n",
              "    <tr>\n",
              "      <th>40998</th>\n",
              "      <td>40998</td>\n",
              "      <td>Cylindrical algebraic decomposition(CAD) is a ...</td>\n",
              "      <td>Applying machine learning to the problem of ch...</td>\n",
              "      <td>Cylindrical algebraic decomposition(CAD) is a ...</td>\n",
              "      <td>Machine learning is the process of fitting a c...</td>\n",
              "      <td>When using CAD, there is often a choice for th...</td>\n",
              "    </tr>\n",
              "    <tr>\n",
              "      <th>40999</th>\n",
              "      <td>40999</td>\n",
              "      <td>Several speaker identification systems are giv...</td>\n",
              "      <td>A Multi Level Data Fusion Approach for Speaker...</td>\n",
              "      <td>Several speaker identification systems are giv...</td>\n",
              "      <td>To deal with this problem, we investigate the ...</td>\n",
              "      <td>To deal with this problem, we investigate the ...</td>\n",
              "    </tr>\n",
              "  </tbody>\n",
              "</table>\n",
              "<p>41000 rows × 6 columns</p>\n",
              "</div>"
            ],
            "text/plain": [
              "          Id  ...                                               sum3\n",
              "0          0  ...  The memory characteristic of the proposed recu...\n",
              "1          1  ...  However, many short texts occur in sequences (...\n",
              "2          2  ...  We introduce the multiresolution recurrent neu...\n",
              "3          3  ...  To overcome this, we introduce Sluice Networks...\n",
              "4          4  ...  The system consists of an ensemble of natural ...\n",
              "...      ...  ...                                                ...\n",
              "40995  40995  ...  We study the complexity of learning and approx...\n",
              "40996  40996  ...  We consider the problem of multiple users targ...\n",
              "40997  40997  ...  In particular, we propose and analyze the use ...\n",
              "40998  40998  ...  When using CAD, there is often a choice for th...\n",
              "40999  40999  ...  To deal with this problem, we investigate the ...\n",
              "\n",
              "[41000 rows x 6 columns]"
            ]
          },
          "metadata": {
            "tags": []
          },
          "execution_count": 46
        }
      ]
    },
    {
      "cell_type": "code",
      "metadata": {
        "id": "xxVfwYoMUQgp"
      },
      "source": [
        "df.to_csv('data_summaries.csv',index=False)"
      ],
      "execution_count": 47,
      "outputs": []
    },
    {
      "cell_type": "markdown",
      "metadata": {
        "id": "ANLkqAvHUaKU"
      },
      "source": [
        "## Adding Text Rank as sum4"
      ]
    },
    {
      "cell_type": "code",
      "metadata": {
        "colab": {
          "base_uri": "https://localhost:8080/"
        },
        "id": "7n92hyAnUmtl",
        "outputId": "f2dfa800-8d25-44d4-8103-7be525be4642"
      },
      "source": [
        "col = df['Abstract']\n",
        "df['sum4']= \"\"\n",
        "for i,abs in enumerate(col):\n",
        "  parser = PlaintextParser.from_string(abs,Tokenizer(\"english\"))\n",
        "  sum = TextRank(parser)\n",
        "  sum = ''.join([str(sen) for sen in sum])\n",
        "  df['sum4'][i]=sum"
      ],
      "execution_count": 48,
      "outputs": [
        {
          "output_type": "stream",
          "text": [
            "/usr/local/lib/python3.7/dist-packages/ipykernel_launcher.py:7: SettingWithCopyWarning: \n",
            "A value is trying to be set on a copy of a slice from a DataFrame\n",
            "\n",
            "See the caveats in the documentation: https://pandas.pydata.org/pandas-docs/stable/user_guide/indexing.html#returning-a-view-versus-a-copy\n",
            "  import sys\n"
          ],
          "name": "stderr"
        }
      ]
    },
    {
      "cell_type": "code",
      "metadata": {
        "colab": {
          "base_uri": "https://localhost:8080/",
          "height": 945
        },
        "id": "-Oa0Kj9lUskb",
        "outputId": "9da84a1a-dd9a-468f-c123-1ca4dbe2ae99"
      },
      "source": [
        "df"
      ],
      "execution_count": 49,
      "outputs": [
        {
          "output_type": "execute_result",
          "data": {
            "text/html": [
              "<div>\n",
              "<style scoped>\n",
              "    .dataframe tbody tr th:only-of-type {\n",
              "        vertical-align: middle;\n",
              "    }\n",
              "\n",
              "    .dataframe tbody tr th {\n",
              "        vertical-align: top;\n",
              "    }\n",
              "\n",
              "    .dataframe thead th {\n",
              "        text-align: right;\n",
              "    }\n",
              "</style>\n",
              "<table border=\"1\" class=\"dataframe\">\n",
              "  <thead>\n",
              "    <tr style=\"text-align: right;\">\n",
              "      <th></th>\n",
              "      <th>Id</th>\n",
              "      <th>Abstract</th>\n",
              "      <th>Title</th>\n",
              "      <th>sum1</th>\n",
              "      <th>sum2</th>\n",
              "      <th>sum3</th>\n",
              "      <th>sum4</th>\n",
              "    </tr>\n",
              "  </thead>\n",
              "  <tbody>\n",
              "    <tr>\n",
              "      <th>0</th>\n",
              "      <td>0</td>\n",
              "      <td>We propose an architecture for VQA which utili...</td>\n",
              "      <td>Dual Recurrent Attention Units for Visual Ques...</td>\n",
              "      <td>We propose an architecture for VQA which utili...</td>\n",
              "      <td>We propose an architecture for VQA which utili...</td>\n",
              "      <td>The memory characteristic of the proposed recu...</td>\n",
              "      <td>The memory characteristic of the proposed recu...</td>\n",
              "    </tr>\n",
              "    <tr>\n",
              "      <th>1</th>\n",
              "      <td>1</td>\n",
              "      <td>Recent approaches based on artificial neural n...</td>\n",
              "      <td>Sequential Short-Text Classification with Recu...</td>\n",
              "      <td>Recent approaches based on artificial neural n...</td>\n",
              "      <td>Recent approaches based on artificial neural n...</td>\n",
              "      <td>However, many short texts occur in sequences (...</td>\n",
              "      <td>However, many short texts occur in sequences (...</td>\n",
              "    </tr>\n",
              "    <tr>\n",
              "      <th>2</th>\n",
              "      <td>2</td>\n",
              "      <td>We introduce the multiresolution recurrent neu...</td>\n",
              "      <td>Multiresolution Recurrent Neural Networks: An ...</td>\n",
              "      <td>We introduce the multiresolution recurrent neu...</td>\n",
              "      <td>We introduce the multiresolution recurrent neu...</td>\n",
              "      <td>We introduce the multiresolution recurrent neu...</td>\n",
              "      <td>We introduce the multiresolution recurrent neu...</td>\n",
              "    </tr>\n",
              "    <tr>\n",
              "      <th>3</th>\n",
              "      <td>3</td>\n",
              "      <td>Multi-task learning is motivated by the observ...</td>\n",
              "      <td>Learning what to share between loosely related...</td>\n",
              "      <td>Multi-task learning is motivated by the observ...</td>\n",
              "      <td>Multi-task learning is motivated by the observ...</td>\n",
              "      <td>To overcome this, we introduce Sluice Networks...</td>\n",
              "      <td>In Natural Language Processing (NLP), it is ha...</td>\n",
              "    </tr>\n",
              "    <tr>\n",
              "      <th>4</th>\n",
              "      <td>4</td>\n",
              "      <td>We present MILABOT: a deep reinforcement learn...</td>\n",
              "      <td>A Deep Reinforcement Learning Chatbot</td>\n",
              "      <td>We present MILABOT: a deep reinforcement learn...</td>\n",
              "      <td>MILABOT is capable of conversing with humans o...</td>\n",
              "      <td>The system consists of an ensemble of natural ...</td>\n",
              "      <td>The system consists of an ensemble of natural ...</td>\n",
              "    </tr>\n",
              "    <tr>\n",
              "      <th>...</th>\n",
              "      <td>...</td>\n",
              "      <td>...</td>\n",
              "      <td>...</td>\n",
              "      <td>...</td>\n",
              "      <td>...</td>\n",
              "      <td>...</td>\n",
              "      <td>...</td>\n",
              "    </tr>\n",
              "    <tr>\n",
              "      <th>40995</th>\n",
              "      <td>40995</td>\n",
              "      <td>We study the complexity of learning and approx...</td>\n",
              "      <td>Nearly Tight Bounds on $\\ell_1$ Approximation ...</td>\n",
              "      <td>Previous techniques considered stronger $\\ell_...</td>\n",
              "      <td>We show that both the degree and junta-size ar...</td>\n",
              "      <td>We study the complexity of learning and approx...</td>\n",
              "      <td>We study the complexity of learning and approx...</td>\n",
              "    </tr>\n",
              "    <tr>\n",
              "      <th>40996</th>\n",
              "      <td>40996</td>\n",
              "      <td>We consider the problem of multiple users targ...</td>\n",
              "      <td>Concurrent bandits and cognitive radio networks</td>\n",
              "      <td>Even the number of users may be unknown and ca...</td>\n",
              "      <td>The motivation for this problem comes from cog...</td>\n",
              "      <td>We consider the problem of multiple users targ...</td>\n",
              "      <td>Even the number of users may be unknown and ca...</td>\n",
              "    </tr>\n",
              "    <tr>\n",
              "      <th>40997</th>\n",
              "      <td>40997</td>\n",
              "      <td>In this paper, we compare and analyze clusteri...</td>\n",
              "      <td>A Comparison of Clustering and Missing Data Me...</td>\n",
              "      <td>In this paper, we compare and analyze clusteri...</td>\n",
              "      <td>In particular, we propose and analyze the use ...</td>\n",
              "      <td>In particular, we propose and analyze the use ...</td>\n",
              "      <td>The empirical tests and real data results show...</td>\n",
              "    </tr>\n",
              "    <tr>\n",
              "      <th>40998</th>\n",
              "      <td>40998</td>\n",
              "      <td>Cylindrical algebraic decomposition(CAD) is a ...</td>\n",
              "      <td>Applying machine learning to the problem of ch...</td>\n",
              "      <td>Cylindrical algebraic decomposition(CAD) is a ...</td>\n",
              "      <td>Machine learning is the process of fitting a c...</td>\n",
              "      <td>When using CAD, there is often a choice for th...</td>\n",
              "      <td>Machine learning is the process of fitting a c...</td>\n",
              "    </tr>\n",
              "    <tr>\n",
              "      <th>40999</th>\n",
              "      <td>40999</td>\n",
              "      <td>Several speaker identification systems are giv...</td>\n",
              "      <td>A Multi Level Data Fusion Approach for Speaker...</td>\n",
              "      <td>Several speaker identification systems are giv...</td>\n",
              "      <td>To deal with this problem, we investigate the ...</td>\n",
              "      <td>To deal with this problem, we investigate the ...</td>\n",
              "      <td>To deal with this problem, we investigate the ...</td>\n",
              "    </tr>\n",
              "  </tbody>\n",
              "</table>\n",
              "<p>41000 rows × 7 columns</p>\n",
              "</div>"
            ],
            "text/plain": [
              "          Id  ...                                               sum4\n",
              "0          0  ...  The memory characteristic of the proposed recu...\n",
              "1          1  ...  However, many short texts occur in sequences (...\n",
              "2          2  ...  We introduce the multiresolution recurrent neu...\n",
              "3          3  ...  In Natural Language Processing (NLP), it is ha...\n",
              "4          4  ...  The system consists of an ensemble of natural ...\n",
              "...      ...  ...                                                ...\n",
              "40995  40995  ...  We study the complexity of learning and approx...\n",
              "40996  40996  ...  Even the number of users may be unknown and ca...\n",
              "40997  40997  ...  The empirical tests and real data results show...\n",
              "40998  40998  ...  Machine learning is the process of fitting a c...\n",
              "40999  40999  ...  To deal with this problem, we investigate the ...\n",
              "\n",
              "[41000 rows x 7 columns]"
            ]
          },
          "metadata": {
            "tags": []
          },
          "execution_count": 49
        }
      ]
    },
    {
      "cell_type": "markdown",
      "metadata": {
        "id": "SxpC5OhQUupl"
      },
      "source": [
        "## Adding SumBasic as sum5"
      ]
    },
    {
      "cell_type": "code",
      "metadata": {
        "colab": {
          "base_uri": "https://localhost:8080/"
        },
        "id": "lprvZRXKUyQY",
        "outputId": "6544f4c9-3ce5-4d5e-ba18-97837f4db45e"
      },
      "source": [
        "col = df['Abstract']\n",
        "df['sum5']= \"\"\n",
        "for i,abs in enumerate(col):\n",
        "  parser = PlaintextParser.from_string(abs,Tokenizer(\"english\"))\n",
        "  sum = SumBasic(parser)\n",
        "  sum = ''.join([str(sen) for sen in sum])\n",
        "  df['sum5'][i]=sum"
      ],
      "execution_count": 50,
      "outputs": [
        {
          "output_type": "stream",
          "text": [
            "/usr/local/lib/python3.7/dist-packages/ipykernel_launcher.py:7: SettingWithCopyWarning: \n",
            "A value is trying to be set on a copy of a slice from a DataFrame\n",
            "\n",
            "See the caveats in the documentation: https://pandas.pydata.org/pandas-docs/stable/user_guide/indexing.html#returning-a-view-versus-a-copy\n",
            "  import sys\n"
          ],
          "name": "stderr"
        }
      ]
    },
    {
      "cell_type": "code",
      "metadata": {
        "colab": {
          "base_uri": "https://localhost:8080/",
          "height": 1000
        },
        "id": "X72wCz5SU3o5",
        "outputId": "3031cf5f-3ac1-4445-8119-f7c256d732aa"
      },
      "source": [
        "df"
      ],
      "execution_count": 51,
      "outputs": [
        {
          "output_type": "execute_result",
          "data": {
            "text/html": [
              "<div>\n",
              "<style scoped>\n",
              "    .dataframe tbody tr th:only-of-type {\n",
              "        vertical-align: middle;\n",
              "    }\n",
              "\n",
              "    .dataframe tbody tr th {\n",
              "        vertical-align: top;\n",
              "    }\n",
              "\n",
              "    .dataframe thead th {\n",
              "        text-align: right;\n",
              "    }\n",
              "</style>\n",
              "<table border=\"1\" class=\"dataframe\">\n",
              "  <thead>\n",
              "    <tr style=\"text-align: right;\">\n",
              "      <th></th>\n",
              "      <th>Id</th>\n",
              "      <th>Abstract</th>\n",
              "      <th>Title</th>\n",
              "      <th>sum1</th>\n",
              "      <th>sum2</th>\n",
              "      <th>sum3</th>\n",
              "      <th>sum4</th>\n",
              "      <th>sum5</th>\n",
              "    </tr>\n",
              "  </thead>\n",
              "  <tbody>\n",
              "    <tr>\n",
              "      <th>0</th>\n",
              "      <td>0</td>\n",
              "      <td>We propose an architecture for VQA which utili...</td>\n",
              "      <td>Dual Recurrent Attention Units for Visual Ques...</td>\n",
              "      <td>We propose an architecture for VQA which utili...</td>\n",
              "      <td>We propose an architecture for VQA which utili...</td>\n",
              "      <td>The memory characteristic of the proposed recu...</td>\n",
              "      <td>The memory characteristic of the proposed recu...</td>\n",
              "      <td>The memory characteristic of the proposed recu...</td>\n",
              "    </tr>\n",
              "    <tr>\n",
              "      <th>1</th>\n",
              "      <td>1</td>\n",
              "      <td>Recent approaches based on artificial neural n...</td>\n",
              "      <td>Sequential Short-Text Classification with Recu...</td>\n",
              "      <td>Recent approaches based on artificial neural n...</td>\n",
              "      <td>Recent approaches based on artificial neural n...</td>\n",
              "      <td>However, many short texts occur in sequences (...</td>\n",
              "      <td>However, many short texts occur in sequences (...</td>\n",
              "      <td>In this work, we present a model based on recu...</td>\n",
              "    </tr>\n",
              "    <tr>\n",
              "      <th>2</th>\n",
              "      <td>2</td>\n",
              "      <td>We introduce the multiresolution recurrent neu...</td>\n",
              "      <td>Multiresolution Recurrent Neural Networks: An ...</td>\n",
              "      <td>We introduce the multiresolution recurrent neu...</td>\n",
              "      <td>We introduce the multiresolution recurrent neu...</td>\n",
              "      <td>We introduce the multiresolution recurrent neu...</td>\n",
              "      <td>We introduce the multiresolution recurrent neu...</td>\n",
              "      <td>We introduce the multiresolution recurrent neu...</td>\n",
              "    </tr>\n",
              "    <tr>\n",
              "      <th>3</th>\n",
              "      <td>3</td>\n",
              "      <td>Multi-task learning is motivated by the observ...</td>\n",
              "      <td>Learning what to share between loosely related...</td>\n",
              "      <td>Multi-task learning is motivated by the observ...</td>\n",
              "      <td>Multi-task learning is motivated by the observ...</td>\n",
              "      <td>To overcome this, we introduce Sluice Networks...</td>\n",
              "      <td>In Natural Language Processing (NLP), it is ha...</td>\n",
              "      <td>In Natural Language Processing (NLP), it is ha...</td>\n",
              "    </tr>\n",
              "    <tr>\n",
              "      <th>4</th>\n",
              "      <td>4</td>\n",
              "      <td>We present MILABOT: a deep reinforcement learn...</td>\n",
              "      <td>A Deep Reinforcement Learning Chatbot</td>\n",
              "      <td>We present MILABOT: a deep reinforcement learn...</td>\n",
              "      <td>MILABOT is capable of conversing with humans o...</td>\n",
              "      <td>The system consists of an ensemble of natural ...</td>\n",
              "      <td>The system consists of an ensemble of natural ...</td>\n",
              "      <td>The system consists of an ensemble of natural ...</td>\n",
              "    </tr>\n",
              "    <tr>\n",
              "      <th>...</th>\n",
              "      <td>...</td>\n",
              "      <td>...</td>\n",
              "      <td>...</td>\n",
              "      <td>...</td>\n",
              "      <td>...</td>\n",
              "      <td>...</td>\n",
              "      <td>...</td>\n",
              "      <td>...</td>\n",
              "    </tr>\n",
              "    <tr>\n",
              "      <th>40995</th>\n",
              "      <td>40995</td>\n",
              "      <td>We study the complexity of learning and approx...</td>\n",
              "      <td>Nearly Tight Bounds on $\\ell_1$ Approximation ...</td>\n",
              "      <td>Previous techniques considered stronger $\\ell_...</td>\n",
              "      <td>We show that both the degree and junta-size ar...</td>\n",
              "      <td>We study the complexity of learning and approx...</td>\n",
              "      <td>We study the complexity of learning and approx...</td>\n",
              "      <td>We study the complexity of learning and approx...</td>\n",
              "    </tr>\n",
              "    <tr>\n",
              "      <th>40996</th>\n",
              "      <td>40996</td>\n",
              "      <td>We consider the problem of multiple users targ...</td>\n",
              "      <td>Concurrent bandits and cognitive radio networks</td>\n",
              "      <td>Even the number of users may be unknown and ca...</td>\n",
              "      <td>The motivation for this problem comes from cog...</td>\n",
              "      <td>We consider the problem of multiple users targ...</td>\n",
              "      <td>Even the number of users may be unknown and ca...</td>\n",
              "      <td>We consider the problem of multiple users targ...</td>\n",
              "    </tr>\n",
              "    <tr>\n",
              "      <th>40997</th>\n",
              "      <td>40997</td>\n",
              "      <td>In this paper, we compare and analyze clusteri...</td>\n",
              "      <td>A Comparison of Clustering and Missing Data Me...</td>\n",
              "      <td>In this paper, we compare and analyze clusteri...</td>\n",
              "      <td>In particular, we propose and analyze the use ...</td>\n",
              "      <td>In particular, we propose and analyze the use ...</td>\n",
              "      <td>The empirical tests and real data results show...</td>\n",
              "      <td>In this paper, we compare and analyze clusteri...</td>\n",
              "    </tr>\n",
              "    <tr>\n",
              "      <th>40998</th>\n",
              "      <td>40998</td>\n",
              "      <td>Cylindrical algebraic decomposition(CAD) is a ...</td>\n",
              "      <td>Applying machine learning to the problem of ch...</td>\n",
              "      <td>Cylindrical algebraic decomposition(CAD) is a ...</td>\n",
              "      <td>Machine learning is the process of fitting a c...</td>\n",
              "      <td>When using CAD, there is often a choice for th...</td>\n",
              "      <td>Machine learning is the process of fitting a c...</td>\n",
              "      <td>When using CAD, there is often a choice for th...</td>\n",
              "    </tr>\n",
              "    <tr>\n",
              "      <th>40999</th>\n",
              "      <td>40999</td>\n",
              "      <td>Several speaker identification systems are giv...</td>\n",
              "      <td>A Multi Level Data Fusion Approach for Speaker...</td>\n",
              "      <td>Several speaker identification systems are giv...</td>\n",
              "      <td>To deal with this problem, we investigate the ...</td>\n",
              "      <td>To deal with this problem, we investigate the ...</td>\n",
              "      <td>To deal with this problem, we investigate the ...</td>\n",
              "      <td>To deal with this problem, we investigate the ...</td>\n",
              "    </tr>\n",
              "  </tbody>\n",
              "</table>\n",
              "<p>41000 rows × 8 columns</p>\n",
              "</div>"
            ],
            "text/plain": [
              "          Id  ...                                               sum5\n",
              "0          0  ...  The memory characteristic of the proposed recu...\n",
              "1          1  ...  In this work, we present a model based on recu...\n",
              "2          2  ...  We introduce the multiresolution recurrent neu...\n",
              "3          3  ...  In Natural Language Processing (NLP), it is ha...\n",
              "4          4  ...  The system consists of an ensemble of natural ...\n",
              "...      ...  ...                                                ...\n",
              "40995  40995  ...  We study the complexity of learning and approx...\n",
              "40996  40996  ...  We consider the problem of multiple users targ...\n",
              "40997  40997  ...  In this paper, we compare and analyze clusteri...\n",
              "40998  40998  ...  When using CAD, there is often a choice for th...\n",
              "40999  40999  ...  To deal with this problem, we investigate the ...\n",
              "\n",
              "[41000 rows x 8 columns]"
            ]
          },
          "metadata": {
            "tags": []
          },
          "execution_count": 51
        }
      ]
    },
    {
      "cell_type": "markdown",
      "metadata": {
        "id": "USfmlLl2U4b5"
      },
      "source": [
        "## Adding KLsum as sum6"
      ]
    },
    {
      "cell_type": "code",
      "metadata": {
        "colab": {
          "base_uri": "https://localhost:8080/"
        },
        "id": "bSw5Hj5zU69G",
        "outputId": "88f47926-dde9-4440-a636-eee667ec7fe0"
      },
      "source": [
        "col = df['Abstract']\n",
        "df['sum6']= \"\"\n",
        "for i,abs in enumerate(col):\n",
        "  parser = PlaintextParser.from_string(abs,Tokenizer(\"english\"))\n",
        "  sum = KlSum(parser)\n",
        "  sum = ''.join([str(sen) for sen in sum])\n",
        "  df['sum6'][i]=sum"
      ],
      "execution_count": 52,
      "outputs": [
        {
          "output_type": "stream",
          "text": [
            "/usr/local/lib/python3.7/dist-packages/ipykernel_launcher.py:7: SettingWithCopyWarning: \n",
            "A value is trying to be set on a copy of a slice from a DataFrame\n",
            "\n",
            "See the caveats in the documentation: https://pandas.pydata.org/pandas-docs/stable/user_guide/indexing.html#returning-a-view-versus-a-copy\n",
            "  import sys\n"
          ],
          "name": "stderr"
        }
      ]
    },
    {
      "cell_type": "code",
      "metadata": {
        "colab": {
          "base_uri": "https://localhost:8080/",
          "height": 1000
        },
        "id": "PkK3HCHSU_aB",
        "outputId": "7df37ff5-a83b-443d-9dd3-37e4327be6ca"
      },
      "source": [
        "df"
      ],
      "execution_count": 53,
      "outputs": [
        {
          "output_type": "execute_result",
          "data": {
            "text/html": [
              "<div>\n",
              "<style scoped>\n",
              "    .dataframe tbody tr th:only-of-type {\n",
              "        vertical-align: middle;\n",
              "    }\n",
              "\n",
              "    .dataframe tbody tr th {\n",
              "        vertical-align: top;\n",
              "    }\n",
              "\n",
              "    .dataframe thead th {\n",
              "        text-align: right;\n",
              "    }\n",
              "</style>\n",
              "<table border=\"1\" class=\"dataframe\">\n",
              "  <thead>\n",
              "    <tr style=\"text-align: right;\">\n",
              "      <th></th>\n",
              "      <th>Id</th>\n",
              "      <th>Abstract</th>\n",
              "      <th>Title</th>\n",
              "      <th>sum1</th>\n",
              "      <th>sum2</th>\n",
              "      <th>sum3</th>\n",
              "      <th>sum4</th>\n",
              "      <th>sum5</th>\n",
              "      <th>sum6</th>\n",
              "    </tr>\n",
              "  </thead>\n",
              "  <tbody>\n",
              "    <tr>\n",
              "      <th>0</th>\n",
              "      <td>0</td>\n",
              "      <td>We propose an architecture for VQA which utili...</td>\n",
              "      <td>Dual Recurrent Attention Units for Visual Ques...</td>\n",
              "      <td>We propose an architecture for VQA which utili...</td>\n",
              "      <td>We propose an architecture for VQA which utili...</td>\n",
              "      <td>The memory characteristic of the proposed recu...</td>\n",
              "      <td>The memory characteristic of the proposed recu...</td>\n",
              "      <td>The memory characteristic of the proposed recu...</td>\n",
              "      <td>Our single model outperforms the first place w...</td>\n",
              "    </tr>\n",
              "    <tr>\n",
              "      <th>1</th>\n",
              "      <td>1</td>\n",
              "      <td>Recent approaches based on artificial neural n...</td>\n",
              "      <td>Sequential Short-Text Classification with Recu...</td>\n",
              "      <td>Recent approaches based on artificial neural n...</td>\n",
              "      <td>Recent approaches based on artificial neural n...</td>\n",
              "      <td>However, many short texts occur in sequences (...</td>\n",
              "      <td>However, many short texts occur in sequences (...</td>\n",
              "      <td>In this work, we present a model based on recu...</td>\n",
              "      <td>However, many short texts occur in sequences (...</td>\n",
              "    </tr>\n",
              "    <tr>\n",
              "      <th>2</th>\n",
              "      <td>2</td>\n",
              "      <td>We introduce the multiresolution recurrent neu...</td>\n",
              "      <td>Multiresolution Recurrent Neural Networks: An ...</td>\n",
              "      <td>We introduce the multiresolution recurrent neu...</td>\n",
              "      <td>We introduce the multiresolution recurrent neu...</td>\n",
              "      <td>We introduce the multiresolution recurrent neu...</td>\n",
              "      <td>We introduce the multiresolution recurrent neu...</td>\n",
              "      <td>We introduce the multiresolution recurrent neu...</td>\n",
              "      <td>We apply the proposed model to the task of dia...</td>\n",
              "    </tr>\n",
              "    <tr>\n",
              "      <th>3</th>\n",
              "      <td>3</td>\n",
              "      <td>Multi-task learning is motivated by the observ...</td>\n",
              "      <td>Learning what to share between loosely related...</td>\n",
              "      <td>Multi-task learning is motivated by the observ...</td>\n",
              "      <td>Multi-task learning is motivated by the observ...</td>\n",
              "      <td>To overcome this, we introduce Sluice Networks...</td>\n",
              "      <td>In Natural Language Processing (NLP), it is ha...</td>\n",
              "      <td>In Natural Language Processing (NLP), it is ha...</td>\n",
              "      <td>Our framework generalizes previous proposals i...</td>\n",
              "    </tr>\n",
              "    <tr>\n",
              "      <th>4</th>\n",
              "      <td>4</td>\n",
              "      <td>We present MILABOT: a deep reinforcement learn...</td>\n",
              "      <td>A Deep Reinforcement Learning Chatbot</td>\n",
              "      <td>We present MILABOT: a deep reinforcement learn...</td>\n",
              "      <td>MILABOT is capable of conversing with humans o...</td>\n",
              "      <td>The system consists of an ensemble of natural ...</td>\n",
              "      <td>The system consists of an ensemble of natural ...</td>\n",
              "      <td>The system consists of an ensemble of natural ...</td>\n",
              "      <td>We present MILABOT: a deep reinforcement learn...</td>\n",
              "    </tr>\n",
              "    <tr>\n",
              "      <th>...</th>\n",
              "      <td>...</td>\n",
              "      <td>...</td>\n",
              "      <td>...</td>\n",
              "      <td>...</td>\n",
              "      <td>...</td>\n",
              "      <td>...</td>\n",
              "      <td>...</td>\n",
              "      <td>...</td>\n",
              "      <td>...</td>\n",
              "    </tr>\n",
              "    <tr>\n",
              "      <th>40995</th>\n",
              "      <td>40995</td>\n",
              "      <td>We study the complexity of learning and approx...</td>\n",
              "      <td>Nearly Tight Bounds on $\\ell_1$ Approximation ...</td>\n",
              "      <td>Previous techniques considered stronger $\\ell_...</td>\n",
              "      <td>We show that both the degree and junta-size ar...</td>\n",
              "      <td>We study the complexity of learning and approx...</td>\n",
              "      <td>We study the complexity of learning and approx...</td>\n",
              "      <td>We study the complexity of learning and approx...</td>\n",
              "      <td>We study the complexity of learning and approx...</td>\n",
              "    </tr>\n",
              "    <tr>\n",
              "      <th>40996</th>\n",
              "      <td>40996</td>\n",
              "      <td>We consider the problem of multiple users targ...</td>\n",
              "      <td>Concurrent bandits and cognitive radio networks</td>\n",
              "      <td>Even the number of users may be unknown and ca...</td>\n",
              "      <td>The motivation for this problem comes from cog...</td>\n",
              "      <td>We consider the problem of multiple users targ...</td>\n",
              "      <td>Even the number of users may be unknown and ca...</td>\n",
              "      <td>We consider the problem of multiple users targ...</td>\n",
              "      <td>We consider the problem of multiple users targ...</td>\n",
              "    </tr>\n",
              "    <tr>\n",
              "      <th>40997</th>\n",
              "      <td>40997</td>\n",
              "      <td>In this paper, we compare and analyze clusteri...</td>\n",
              "      <td>A Comparison of Clustering and Missing Data Me...</td>\n",
              "      <td>In this paper, we compare and analyze clusteri...</td>\n",
              "      <td>In particular, we propose and analyze the use ...</td>\n",
              "      <td>In particular, we propose and analyze the use ...</td>\n",
              "      <td>The empirical tests and real data results show...</td>\n",
              "      <td>In this paper, we compare and analyze clusteri...</td>\n",
              "      <td>In this paper, we compare and analyze clusteri...</td>\n",
              "    </tr>\n",
              "    <tr>\n",
              "      <th>40998</th>\n",
              "      <td>40998</td>\n",
              "      <td>Cylindrical algebraic decomposition(CAD) is a ...</td>\n",
              "      <td>Applying machine learning to the problem of ch...</td>\n",
              "      <td>Cylindrical algebraic decomposition(CAD) is a ...</td>\n",
              "      <td>Machine learning is the process of fitting a c...</td>\n",
              "      <td>When using CAD, there is often a choice for th...</td>\n",
              "      <td>Machine learning is the process of fitting a c...</td>\n",
              "      <td>When using CAD, there is often a choice for th...</td>\n",
              "      <td>When using CAD, there is often a choice for th...</td>\n",
              "    </tr>\n",
              "    <tr>\n",
              "      <th>40999</th>\n",
              "      <td>40999</td>\n",
              "      <td>Several speaker identification systems are giv...</td>\n",
              "      <td>A Multi Level Data Fusion Approach for Speaker...</td>\n",
              "      <td>Several speaker identification systems are giv...</td>\n",
              "      <td>To deal with this problem, we investigate the ...</td>\n",
              "      <td>To deal with this problem, we investigate the ...</td>\n",
              "      <td>To deal with this problem, we investigate the ...</td>\n",
              "      <td>To deal with this problem, we investigate the ...</td>\n",
              "      <td>To deal with this problem, we investigate the ...</td>\n",
              "    </tr>\n",
              "  </tbody>\n",
              "</table>\n",
              "<p>41000 rows × 9 columns</p>\n",
              "</div>"
            ],
            "text/plain": [
              "          Id  ...                                               sum6\n",
              "0          0  ...  Our single model outperforms the first place w...\n",
              "1          1  ...  However, many short texts occur in sequences (...\n",
              "2          2  ...  We apply the proposed model to the task of dia...\n",
              "3          3  ...  Our framework generalizes previous proposals i...\n",
              "4          4  ...  We present MILABOT: a deep reinforcement learn...\n",
              "...      ...  ...                                                ...\n",
              "40995  40995  ...  We study the complexity of learning and approx...\n",
              "40996  40996  ...  We consider the problem of multiple users targ...\n",
              "40997  40997  ...  In this paper, we compare and analyze clusteri...\n",
              "40998  40998  ...  When using CAD, there is often a choice for th...\n",
              "40999  40999  ...  To deal with this problem, we investigate the ...\n",
              "\n",
              "[41000 rows x 9 columns]"
            ]
          },
          "metadata": {
            "tags": []
          },
          "execution_count": 53
        }
      ]
    },
    {
      "cell_type": "markdown",
      "metadata": {
        "id": "Fa42XzcYVAKE"
      },
      "source": [
        "## Adding edmundson as sum7"
      ]
    },
    {
      "cell_type": "code",
      "metadata": {
        "colab": {
          "base_uri": "https://localhost:8080/"
        },
        "id": "oIfD-yGPVHNV",
        "outputId": "3de33a83-9206-4f5a-82a1-5cf232dea73f"
      },
      "source": [
        "col = df['Abstract']\n",
        "df['sum7']= \"\"\n",
        "for i,abs in enumerate(col):\n",
        "  parser = PlaintextParser.from_string(abs,Tokenizer(\"english\"))\n",
        "  sum = EdSum(parser)\n",
        "  sum = ''.join([str(sen) for sen in sum])\n",
        "  df['sum7'][i]=sum"
      ],
      "execution_count": 55,
      "outputs": [
        {
          "output_type": "stream",
          "text": [
            "/usr/local/lib/python3.7/dist-packages/ipykernel_launcher.py:7: SettingWithCopyWarning: \n",
            "A value is trying to be set on a copy of a slice from a DataFrame\n",
            "\n",
            "See the caveats in the documentation: https://pandas.pydata.org/pandas-docs/stable/user_guide/indexing.html#returning-a-view-versus-a-copy\n",
            "  import sys\n"
          ],
          "name": "stderr"
        }
      ]
    },
    {
      "cell_type": "code",
      "metadata": {
        "colab": {
          "base_uri": "https://localhost:8080/",
          "height": 1000
        },
        "id": "TlojMy7dVM-S",
        "outputId": "0064a7eb-6b75-492a-f786-9422e44b33bb"
      },
      "source": [
        "df"
      ],
      "execution_count": 56,
      "outputs": [
        {
          "output_type": "execute_result",
          "data": {
            "text/html": [
              "<div>\n",
              "<style scoped>\n",
              "    .dataframe tbody tr th:only-of-type {\n",
              "        vertical-align: middle;\n",
              "    }\n",
              "\n",
              "    .dataframe tbody tr th {\n",
              "        vertical-align: top;\n",
              "    }\n",
              "\n",
              "    .dataframe thead th {\n",
              "        text-align: right;\n",
              "    }\n",
              "</style>\n",
              "<table border=\"1\" class=\"dataframe\">\n",
              "  <thead>\n",
              "    <tr style=\"text-align: right;\">\n",
              "      <th></th>\n",
              "      <th>Id</th>\n",
              "      <th>Abstract</th>\n",
              "      <th>Title</th>\n",
              "      <th>sum1</th>\n",
              "      <th>sum2</th>\n",
              "      <th>sum3</th>\n",
              "      <th>sum4</th>\n",
              "      <th>sum5</th>\n",
              "      <th>sum6</th>\n",
              "      <th>sum7</th>\n",
              "    </tr>\n",
              "  </thead>\n",
              "  <tbody>\n",
              "    <tr>\n",
              "      <th>0</th>\n",
              "      <td>0</td>\n",
              "      <td>We propose an architecture for VQA which utili...</td>\n",
              "      <td>Dual Recurrent Attention Units for Visual Ques...</td>\n",
              "      <td>We propose an architecture for VQA which utili...</td>\n",
              "      <td>We propose an architecture for VQA which utili...</td>\n",
              "      <td>The memory characteristic of the proposed recu...</td>\n",
              "      <td>The memory characteristic of the proposed recu...</td>\n",
              "      <td>The memory characteristic of the proposed recu...</td>\n",
              "      <td>Our single model outperforms the first place w...</td>\n",
              "      <td>We propose an architecture for VQA which utili...</td>\n",
              "    </tr>\n",
              "    <tr>\n",
              "      <th>1</th>\n",
              "      <td>1</td>\n",
              "      <td>Recent approaches based on artificial neural n...</td>\n",
              "      <td>Sequential Short-Text Classification with Recu...</td>\n",
              "      <td>Recent approaches based on artificial neural n...</td>\n",
              "      <td>Recent approaches based on artificial neural n...</td>\n",
              "      <td>However, many short texts occur in sequences (...</td>\n",
              "      <td>However, many short texts occur in sequences (...</td>\n",
              "      <td>In this work, we present a model based on recu...</td>\n",
              "      <td>However, many short texts occur in sequences (...</td>\n",
              "      <td>Recent approaches based on artificial neural n...</td>\n",
              "    </tr>\n",
              "    <tr>\n",
              "      <th>2</th>\n",
              "      <td>2</td>\n",
              "      <td>We introduce the multiresolution recurrent neu...</td>\n",
              "      <td>Multiresolution Recurrent Neural Networks: An ...</td>\n",
              "      <td>We introduce the multiresolution recurrent neu...</td>\n",
              "      <td>We introduce the multiresolution recurrent neu...</td>\n",
              "      <td>We introduce the multiresolution recurrent neu...</td>\n",
              "      <td>We introduce the multiresolution recurrent neu...</td>\n",
              "      <td>We introduce the multiresolution recurrent neu...</td>\n",
              "      <td>We apply the proposed model to the task of dia...</td>\n",
              "      <td>We introduce the multiresolution recurrent neu...</td>\n",
              "    </tr>\n",
              "    <tr>\n",
              "      <th>3</th>\n",
              "      <td>3</td>\n",
              "      <td>Multi-task learning is motivated by the observ...</td>\n",
              "      <td>Learning what to share between loosely related...</td>\n",
              "      <td>Multi-task learning is motivated by the observ...</td>\n",
              "      <td>Multi-task learning is motivated by the observ...</td>\n",
              "      <td>To overcome this, we introduce Sluice Networks...</td>\n",
              "      <td>In Natural Language Processing (NLP), it is ha...</td>\n",
              "      <td>In Natural Language Processing (NLP), it is ha...</td>\n",
              "      <td>Our framework generalizes previous proposals i...</td>\n",
              "      <td>Multi-task learning is motivated by the observ...</td>\n",
              "    </tr>\n",
              "    <tr>\n",
              "      <th>4</th>\n",
              "      <td>4</td>\n",
              "      <td>We present MILABOT: a deep reinforcement learn...</td>\n",
              "      <td>A Deep Reinforcement Learning Chatbot</td>\n",
              "      <td>We present MILABOT: a deep reinforcement learn...</td>\n",
              "      <td>MILABOT is capable of conversing with humans o...</td>\n",
              "      <td>The system consists of an ensemble of natural ...</td>\n",
              "      <td>The system consists of an ensemble of natural ...</td>\n",
              "      <td>The system consists of an ensemble of natural ...</td>\n",
              "      <td>We present MILABOT: a deep reinforcement learn...</td>\n",
              "      <td>We present MILABOT: a deep reinforcement learn...</td>\n",
              "    </tr>\n",
              "    <tr>\n",
              "      <th>...</th>\n",
              "      <td>...</td>\n",
              "      <td>...</td>\n",
              "      <td>...</td>\n",
              "      <td>...</td>\n",
              "      <td>...</td>\n",
              "      <td>...</td>\n",
              "      <td>...</td>\n",
              "      <td>...</td>\n",
              "      <td>...</td>\n",
              "      <td>...</td>\n",
              "    </tr>\n",
              "    <tr>\n",
              "      <th>40995</th>\n",
              "      <td>40995</td>\n",
              "      <td>We study the complexity of learning and approx...</td>\n",
              "      <td>Nearly Tight Bounds on $\\ell_1$ Approximation ...</td>\n",
              "      <td>Previous techniques considered stronger $\\ell_...</td>\n",
              "      <td>We show that both the degree and junta-size ar...</td>\n",
              "      <td>We study the complexity of learning and approx...</td>\n",
              "      <td>We study the complexity of learning and approx...</td>\n",
              "      <td>We study the complexity of learning and approx...</td>\n",
              "      <td>We study the complexity of learning and approx...</td>\n",
              "      <td>We study the complexity of learning and approx...</td>\n",
              "    </tr>\n",
              "    <tr>\n",
              "      <th>40996</th>\n",
              "      <td>40996</td>\n",
              "      <td>We consider the problem of multiple users targ...</td>\n",
              "      <td>Concurrent bandits and cognitive radio networks</td>\n",
              "      <td>Even the number of users may be unknown and ca...</td>\n",
              "      <td>The motivation for this problem comes from cog...</td>\n",
              "      <td>We consider the problem of multiple users targ...</td>\n",
              "      <td>Even the number of users may be unknown and ca...</td>\n",
              "      <td>We consider the problem of multiple users targ...</td>\n",
              "      <td>We consider the problem of multiple users targ...</td>\n",
              "      <td>We consider the problem of multiple users targ...</td>\n",
              "    </tr>\n",
              "    <tr>\n",
              "      <th>40997</th>\n",
              "      <td>40997</td>\n",
              "      <td>In this paper, we compare and analyze clusteri...</td>\n",
              "      <td>A Comparison of Clustering and Missing Data Me...</td>\n",
              "      <td>In this paper, we compare and analyze clusteri...</td>\n",
              "      <td>In particular, we propose and analyze the use ...</td>\n",
              "      <td>In particular, we propose and analyze the use ...</td>\n",
              "      <td>The empirical tests and real data results show...</td>\n",
              "      <td>In this paper, we compare and analyze clusteri...</td>\n",
              "      <td>In this paper, we compare and analyze clusteri...</td>\n",
              "      <td>In this paper, we compare and analyze clusteri...</td>\n",
              "    </tr>\n",
              "    <tr>\n",
              "      <th>40998</th>\n",
              "      <td>40998</td>\n",
              "      <td>Cylindrical algebraic decomposition(CAD) is a ...</td>\n",
              "      <td>Applying machine learning to the problem of ch...</td>\n",
              "      <td>Cylindrical algebraic decomposition(CAD) is a ...</td>\n",
              "      <td>Machine learning is the process of fitting a c...</td>\n",
              "      <td>When using CAD, there is often a choice for th...</td>\n",
              "      <td>Machine learning is the process of fitting a c...</td>\n",
              "      <td>When using CAD, there is often a choice for th...</td>\n",
              "      <td>When using CAD, there is often a choice for th...</td>\n",
              "      <td>Cylindrical algebraic decomposition(CAD) is a ...</td>\n",
              "    </tr>\n",
              "    <tr>\n",
              "      <th>40999</th>\n",
              "      <td>40999</td>\n",
              "      <td>Several speaker identification systems are giv...</td>\n",
              "      <td>A Multi Level Data Fusion Approach for Speaker...</td>\n",
              "      <td>Several speaker identification systems are giv...</td>\n",
              "      <td>To deal with this problem, we investigate the ...</td>\n",
              "      <td>To deal with this problem, we investigate the ...</td>\n",
              "      <td>To deal with this problem, we investigate the ...</td>\n",
              "      <td>To deal with this problem, we investigate the ...</td>\n",
              "      <td>To deal with this problem, we investigate the ...</td>\n",
              "      <td>Several speaker identification systems are giv...</td>\n",
              "    </tr>\n",
              "  </tbody>\n",
              "</table>\n",
              "<p>41000 rows × 10 columns</p>\n",
              "</div>"
            ],
            "text/plain": [
              "          Id  ...                                               sum7\n",
              "0          0  ...  We propose an architecture for VQA which utili...\n",
              "1          1  ...  Recent approaches based on artificial neural n...\n",
              "2          2  ...  We introduce the multiresolution recurrent neu...\n",
              "3          3  ...  Multi-task learning is motivated by the observ...\n",
              "4          4  ...  We present MILABOT: a deep reinforcement learn...\n",
              "...      ...  ...                                                ...\n",
              "40995  40995  ...  We study the complexity of learning and approx...\n",
              "40996  40996  ...  We consider the problem of multiple users targ...\n",
              "40997  40997  ...  In this paper, we compare and analyze clusteri...\n",
              "40998  40998  ...  Cylindrical algebraic decomposition(CAD) is a ...\n",
              "40999  40999  ...  Several speaker identification systems are giv...\n",
              "\n",
              "[41000 rows x 10 columns]"
            ]
          },
          "metadata": {
            "tags": []
          },
          "execution_count": 56
        }
      ]
    },
    {
      "cell_type": "code",
      "metadata": {
        "id": "PotdPNMmVNaH"
      },
      "source": [
        "df.to_csv('/content/drive/MyDrive/data_summaries.csv',index=False)"
      ],
      "execution_count": 58,
      "outputs": []
    },
    {
      "cell_type": "code",
      "metadata": {
        "id": "1ObTqbH_cGCa"
      },
      "source": [
        "df1= pd.read_csv('/content/drive/MyDrive/data_summaries.csv')"
      ],
      "execution_count": 60,
      "outputs": []
    },
    {
      "cell_type": "code",
      "metadata": {
        "colab": {
          "base_uri": "https://localhost:8080/",
          "height": 1000
        },
        "id": "oRm2OYlfcQDt",
        "outputId": "f0b49f91-11c7-474c-d839-9e35428b30b1"
      },
      "source": [
        "df1"
      ],
      "execution_count": 61,
      "outputs": [
        {
          "output_type": "execute_result",
          "data": {
            "text/html": [
              "<div>\n",
              "<style scoped>\n",
              "    .dataframe tbody tr th:only-of-type {\n",
              "        vertical-align: middle;\n",
              "    }\n",
              "\n",
              "    .dataframe tbody tr th {\n",
              "        vertical-align: top;\n",
              "    }\n",
              "\n",
              "    .dataframe thead th {\n",
              "        text-align: right;\n",
              "    }\n",
              "</style>\n",
              "<table border=\"1\" class=\"dataframe\">\n",
              "  <thead>\n",
              "    <tr style=\"text-align: right;\">\n",
              "      <th></th>\n",
              "      <th>Id</th>\n",
              "      <th>Abstract</th>\n",
              "      <th>Title</th>\n",
              "      <th>sum1</th>\n",
              "      <th>sum2</th>\n",
              "      <th>sum3</th>\n",
              "      <th>sum4</th>\n",
              "      <th>sum5</th>\n",
              "      <th>sum6</th>\n",
              "      <th>sum7</th>\n",
              "    </tr>\n",
              "  </thead>\n",
              "  <tbody>\n",
              "    <tr>\n",
              "      <th>0</th>\n",
              "      <td>0</td>\n",
              "      <td>We propose an architecture for VQA which utili...</td>\n",
              "      <td>Dual Recurrent Attention Units for Visual Ques...</td>\n",
              "      <td>We propose an architecture for VQA which utili...</td>\n",
              "      <td>We propose an architecture for VQA which utili...</td>\n",
              "      <td>The memory characteristic of the proposed recu...</td>\n",
              "      <td>The memory characteristic of the proposed recu...</td>\n",
              "      <td>The memory characteristic of the proposed recu...</td>\n",
              "      <td>Our single model outperforms the first place w...</td>\n",
              "      <td>We propose an architecture for VQA which utili...</td>\n",
              "    </tr>\n",
              "    <tr>\n",
              "      <th>1</th>\n",
              "      <td>1</td>\n",
              "      <td>Recent approaches based on artificial neural n...</td>\n",
              "      <td>Sequential Short-Text Classification with Recu...</td>\n",
              "      <td>Recent approaches based on artificial neural n...</td>\n",
              "      <td>Recent approaches based on artificial neural n...</td>\n",
              "      <td>However, many short texts occur in sequences (...</td>\n",
              "      <td>However, many short texts occur in sequences (...</td>\n",
              "      <td>In this work, we present a model based on recu...</td>\n",
              "      <td>However, many short texts occur in sequences (...</td>\n",
              "      <td>Recent approaches based on artificial neural n...</td>\n",
              "    </tr>\n",
              "    <tr>\n",
              "      <th>2</th>\n",
              "      <td>2</td>\n",
              "      <td>We introduce the multiresolution recurrent neu...</td>\n",
              "      <td>Multiresolution Recurrent Neural Networks: An ...</td>\n",
              "      <td>We introduce the multiresolution recurrent neu...</td>\n",
              "      <td>We introduce the multiresolution recurrent neu...</td>\n",
              "      <td>We introduce the multiresolution recurrent neu...</td>\n",
              "      <td>We introduce the multiresolution recurrent neu...</td>\n",
              "      <td>We introduce the multiresolution recurrent neu...</td>\n",
              "      <td>We apply the proposed model to the task of dia...</td>\n",
              "      <td>We introduce the multiresolution recurrent neu...</td>\n",
              "    </tr>\n",
              "    <tr>\n",
              "      <th>3</th>\n",
              "      <td>3</td>\n",
              "      <td>Multi-task learning is motivated by the observ...</td>\n",
              "      <td>Learning what to share between loosely related...</td>\n",
              "      <td>Multi-task learning is motivated by the observ...</td>\n",
              "      <td>Multi-task learning is motivated by the observ...</td>\n",
              "      <td>To overcome this, we introduce Sluice Networks...</td>\n",
              "      <td>In Natural Language Processing (NLP), it is ha...</td>\n",
              "      <td>In Natural Language Processing (NLP), it is ha...</td>\n",
              "      <td>Our framework generalizes previous proposals i...</td>\n",
              "      <td>Multi-task learning is motivated by the observ...</td>\n",
              "    </tr>\n",
              "    <tr>\n",
              "      <th>4</th>\n",
              "      <td>4</td>\n",
              "      <td>We present MILABOT: a deep reinforcement learn...</td>\n",
              "      <td>A Deep Reinforcement Learning Chatbot</td>\n",
              "      <td>We present MILABOT: a deep reinforcement learn...</td>\n",
              "      <td>MILABOT is capable of conversing with humans o...</td>\n",
              "      <td>The system consists of an ensemble of natural ...</td>\n",
              "      <td>The system consists of an ensemble of natural ...</td>\n",
              "      <td>The system consists of an ensemble of natural ...</td>\n",
              "      <td>We present MILABOT: a deep reinforcement learn...</td>\n",
              "      <td>We present MILABOT: a deep reinforcement learn...</td>\n",
              "    </tr>\n",
              "    <tr>\n",
              "      <th>...</th>\n",
              "      <td>...</td>\n",
              "      <td>...</td>\n",
              "      <td>...</td>\n",
              "      <td>...</td>\n",
              "      <td>...</td>\n",
              "      <td>...</td>\n",
              "      <td>...</td>\n",
              "      <td>...</td>\n",
              "      <td>...</td>\n",
              "      <td>...</td>\n",
              "    </tr>\n",
              "    <tr>\n",
              "      <th>40995</th>\n",
              "      <td>40995</td>\n",
              "      <td>We study the complexity of learning and approx...</td>\n",
              "      <td>Nearly Tight Bounds on $\\ell_1$ Approximation ...</td>\n",
              "      <td>Previous techniques considered stronger $\\ell_...</td>\n",
              "      <td>We show that both the degree and junta-size ar...</td>\n",
              "      <td>We study the complexity of learning and approx...</td>\n",
              "      <td>We study the complexity of learning and approx...</td>\n",
              "      <td>We study the complexity of learning and approx...</td>\n",
              "      <td>We study the complexity of learning and approx...</td>\n",
              "      <td>We study the complexity of learning and approx...</td>\n",
              "    </tr>\n",
              "    <tr>\n",
              "      <th>40996</th>\n",
              "      <td>40996</td>\n",
              "      <td>We consider the problem of multiple users targ...</td>\n",
              "      <td>Concurrent bandits and cognitive radio networks</td>\n",
              "      <td>Even the number of users may be unknown and ca...</td>\n",
              "      <td>The motivation for this problem comes from cog...</td>\n",
              "      <td>We consider the problem of multiple users targ...</td>\n",
              "      <td>Even the number of users may be unknown and ca...</td>\n",
              "      <td>We consider the problem of multiple users targ...</td>\n",
              "      <td>We consider the problem of multiple users targ...</td>\n",
              "      <td>We consider the problem of multiple users targ...</td>\n",
              "    </tr>\n",
              "    <tr>\n",
              "      <th>40997</th>\n",
              "      <td>40997</td>\n",
              "      <td>In this paper, we compare and analyze clusteri...</td>\n",
              "      <td>A Comparison of Clustering and Missing Data Me...</td>\n",
              "      <td>In this paper, we compare and analyze clusteri...</td>\n",
              "      <td>In particular, we propose and analyze the use ...</td>\n",
              "      <td>In particular, we propose and analyze the use ...</td>\n",
              "      <td>The empirical tests and real data results show...</td>\n",
              "      <td>In this paper, we compare and analyze clusteri...</td>\n",
              "      <td>In this paper, we compare and analyze clusteri...</td>\n",
              "      <td>In this paper, we compare and analyze clusteri...</td>\n",
              "    </tr>\n",
              "    <tr>\n",
              "      <th>40998</th>\n",
              "      <td>40998</td>\n",
              "      <td>Cylindrical algebraic decomposition(CAD) is a ...</td>\n",
              "      <td>Applying machine learning to the problem of ch...</td>\n",
              "      <td>Cylindrical algebraic decomposition(CAD) is a ...</td>\n",
              "      <td>Machine learning is the process of fitting a c...</td>\n",
              "      <td>When using CAD, there is often a choice for th...</td>\n",
              "      <td>Machine learning is the process of fitting a c...</td>\n",
              "      <td>When using CAD, there is often a choice for th...</td>\n",
              "      <td>When using CAD, there is often a choice for th...</td>\n",
              "      <td>Cylindrical algebraic decomposition(CAD) is a ...</td>\n",
              "    </tr>\n",
              "    <tr>\n",
              "      <th>40999</th>\n",
              "      <td>40999</td>\n",
              "      <td>Several speaker identification systems are giv...</td>\n",
              "      <td>A Multi Level Data Fusion Approach for Speaker...</td>\n",
              "      <td>Several speaker identification systems are giv...</td>\n",
              "      <td>To deal with this problem, we investigate the ...</td>\n",
              "      <td>To deal with this problem, we investigate the ...</td>\n",
              "      <td>To deal with this problem, we investigate the ...</td>\n",
              "      <td>To deal with this problem, we investigate the ...</td>\n",
              "      <td>To deal with this problem, we investigate the ...</td>\n",
              "      <td>Several speaker identification systems are giv...</td>\n",
              "    </tr>\n",
              "  </tbody>\n",
              "</table>\n",
              "<p>41000 rows × 10 columns</p>\n",
              "</div>"
            ],
            "text/plain": [
              "          Id  ...                                               sum7\n",
              "0          0  ...  We propose an architecture for VQA which utili...\n",
              "1          1  ...  Recent approaches based on artificial neural n...\n",
              "2          2  ...  We introduce the multiresolution recurrent neu...\n",
              "3          3  ...  Multi-task learning is motivated by the observ...\n",
              "4          4  ...  We present MILABOT: a deep reinforcement learn...\n",
              "...      ...  ...                                                ...\n",
              "40995  40995  ...  We study the complexity of learning and approx...\n",
              "40996  40996  ...  We consider the problem of multiple users targ...\n",
              "40997  40997  ...  In this paper, we compare and analyze clusteri...\n",
              "40998  40998  ...  Cylindrical algebraic decomposition(CAD) is a ...\n",
              "40999  40999  ...  Several speaker identification systems are giv...\n",
              "\n",
              "[41000 rows x 10 columns]"
            ]
          },
          "metadata": {
            "tags": []
          },
          "execution_count": 61
        }
      ]
    }
  ]
}